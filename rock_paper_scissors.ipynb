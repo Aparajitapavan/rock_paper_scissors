{
  "nbformat": 4,
  "nbformat_minor": 0,
  "metadata": {
    "colab": {
      "provenance": []
    },
    "kernelspec": {
      "name": "python3",
      "display_name": "Python 3"
    },
    "language_info": {
      "name": "python"
    }
  },
  "cells": [
    {
      "cell_type": "code",
      "execution_count": 1,
      "metadata": {
        "colab": {
          "base_uri": "https://localhost:8080/"
        },
        "id": "TW4yHBWTYon8",
        "outputId": "59a05d53-e295-4ca4-8ac3-bafc3fa361ce"
      },
      "outputs": [
        {
          "output_type": "stream",
          "name": "stdout",
          "text": [
            "Enter your choice(rock, paper, scissors): rock\n",
            "you chose rock the computer chose paper\n",
            "paper covers rock, you lose!\n"
          ]
        }
      ],
      "source": [
        "import random\n",
        "\n",
        "\n",
        "def get_choices():\n",
        "  player_choice = input(\"Enter your choice(rock, paper, scissors): \")\n",
        "  options = [\"rock\", \"paper\", \"scissors\"]\n",
        "  computer_choice = random.choice(options)\n",
        "  choices = {\"player\": player_choice, \"computer\": computer_choice}\n",
        "  return choices\n",
        "\n",
        "\n",
        "def check_win(player, computer):\n",
        "  print(f\"you chose {player} the computer chose {computer}\")\n",
        "  if player == computer:\n",
        "    return \"its a tie\"\n",
        "  elif player == \"rock\":\n",
        "    if computer == \"scissors\":\n",
        "      return \"rock smashes scissors, you win!\"\n",
        "    else:\n",
        "      return \"paper covers rock, you lose!\"\n",
        "\n",
        "  elif player == \"scissors\":\n",
        "    if computer == \"rock\":\n",
        "      return \"rock smashes scissors, you loose!\"\n",
        "    else:\n",
        "      return \"scissors cuts paper, you win!\"\n",
        "\n",
        "  elif player == \"paper\":\n",
        "    if computer == \"scissors\":\n",
        "      return \"scissors cuts paper, you loose!\"\n",
        "    else:\n",
        "      return \"paper covrs rock, you win!\"\n",
        "\n",
        "\n",
        "choices = get_choices()\n",
        "result = check_win(choices[\"player\"], choices[\"computer\"])\n",
        "print(result)\n"
      ]
    }
  ]
}